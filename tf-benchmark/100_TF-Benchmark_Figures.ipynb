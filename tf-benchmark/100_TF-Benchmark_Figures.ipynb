{
 "cells": [
  {
   "cell_type": "markdown",
   "metadata": {},
   "source": [
    "### Analysis notebook for Class Project"
   ]
  },
  {
   "cell_type": "markdown",
   "metadata": {},
   "source": [
    "- Save data in CSV\n",
    "- Plot throughout figure with respect to bandwidth, latency, packet loss"
   ]
  },
  {
   "cell_type": "code",
   "execution_count": 1,
   "metadata": {},
   "outputs": [],
   "source": [
    "import os\n",
    "import glob\n",
    "import numpy as np\n",
    "import pandas as pd\n",
    "import matplotlib.pyplot as plt"
   ]
  },
  {
   "cell_type": "code",
   "execution_count": 2,
   "metadata": {},
   "outputs": [],
   "source": [
    "base_datadir='/home/tkurihana/class/networking/NSD-Project-Rui/tf-benchmark/log'"
   ]
  },
  {
   "cell_type": "code",
   "execution_count": 18,
   "metadata": {},
   "outputs": [],
   "source": [
    "def log_getter_fn(base_datadir, \n",
    "                  dataname, \n",
    "                  mtype, batch_sizes, losses, bandwidths, delays):\n",
    "    \"\"\"\n",
    "    data : time, throughput\n",
    "    \"\"\"\n",
    "    datalist = []\n",
    "    header = ['delay', 'bandwidth', 'packet_loss', 'batch_size', 'throughput']\n",
    "    for nbatch in batch_sizes:\n",
    "        for loss in losses:\n",
    "            for bandwidth in bandwidths:\n",
    "                for delay in delays:\n",
    "                    ifile = os.path.join(base_datadir,\n",
    "                        dataname+'/'+str(mtype)+'_'+str(nbatch)+'-'+str(loss)+'ps-'+str(bandwidth)+'mbit-'+str(delay)+'ms.txt'\n",
    "                    )\n",
    "                    tmp_data = np.loadtxt(ifile,delimiter=',')\n",
    "                    throughput = tmp_data[1]\n",
    "                    data = np.asarray([int(delay), int(bandwidth), int(loss), int(nbatch), throughput])\n",
    "                    datalist.append(data)\n",
    "    array = np.asarray(datalist)\n",
    "    df = pd.DataFrame(array)\n",
    "    df.columns = header\n",
    "    return df"
   ]
  },
  {
   "cell_type": "code",
   "execution_count": 19,
   "metadata": {},
   "outputs": [],
   "source": [
    "### params \n",
    "datanames = ['mnist', 'imagenet']\n",
    "mtypes = ['mlp', 'mobilenet', 'resnet']\n",
    "batch_sizes = [32, 128, 1024]\n",
    "losses = [0, 1, 10]\n",
    "bandwidths = [1000, 500, 100]\n",
    "delays = [1, 10, 100,]"
   ]
  },
  {
   "cell_type": "code",
   "execution_count": 20,
   "metadata": {},
   "outputs": [],
   "source": [
    "mnist_dataset = []\n",
    "for mtype in mtypes:\n",
    "    mnist_dataset.append(\n",
    "        log_getter_fn(\n",
    "            base_datadir, 'mnist',mtype,batch_sizes, losses, bandwidths, delays\n",
    "        )               \n",
    "    )"
   ]
  },
  {
   "cell_type": "code",
   "execution_count": 21,
   "metadata": {},
   "outputs": [
    {
     "data": {
      "text/html": [
       "<div>\n",
       "<style scoped>\n",
       "    .dataframe tbody tr th:only-of-type {\n",
       "        vertical-align: middle;\n",
       "    }\n",
       "\n",
       "    .dataframe tbody tr th {\n",
       "        vertical-align: top;\n",
       "    }\n",
       "\n",
       "    .dataframe thead th {\n",
       "        text-align: right;\n",
       "    }\n",
       "</style>\n",
       "<table border=\"1\" class=\"dataframe\">\n",
       "  <thead>\n",
       "    <tr style=\"text-align: right;\">\n",
       "      <th></th>\n",
       "      <th>delay</th>\n",
       "      <th>bandwidth</th>\n",
       "      <th>packet_loss</th>\n",
       "      <th>batch_size</th>\n",
       "      <th>throughput</th>\n",
       "    </tr>\n",
       "  </thead>\n",
       "  <tbody>\n",
       "    <tr>\n",
       "      <th>0</th>\n",
       "      <td>1.0</td>\n",
       "      <td>1000.0</td>\n",
       "      <td>0.0</td>\n",
       "      <td>32.0</td>\n",
       "      <td>245.090094</td>\n",
       "    </tr>\n",
       "    <tr>\n",
       "      <th>1</th>\n",
       "      <td>10.0</td>\n",
       "      <td>1000.0</td>\n",
       "      <td>0.0</td>\n",
       "      <td>32.0</td>\n",
       "      <td>7.633273</td>\n",
       "    </tr>\n",
       "    <tr>\n",
       "      <th>2</th>\n",
       "      <td>100.0</td>\n",
       "      <td>1000.0</td>\n",
       "      <td>0.0</td>\n",
       "      <td>32.0</td>\n",
       "      <td>7.017627</td>\n",
       "    </tr>\n",
       "    <tr>\n",
       "      <th>3</th>\n",
       "      <td>1.0</td>\n",
       "      <td>500.0</td>\n",
       "      <td>0.0</td>\n",
       "      <td>32.0</td>\n",
       "      <td>299.186970</td>\n",
       "    </tr>\n",
       "    <tr>\n",
       "      <th>4</th>\n",
       "      <td>10.0</td>\n",
       "      <td>500.0</td>\n",
       "      <td>0.0</td>\n",
       "      <td>32.0</td>\n",
       "      <td>18.175055</td>\n",
       "    </tr>\n",
       "    <tr>\n",
       "      <th>...</th>\n",
       "      <td>...</td>\n",
       "      <td>...</td>\n",
       "      <td>...</td>\n",
       "      <td>...</td>\n",
       "      <td>...</td>\n",
       "    </tr>\n",
       "    <tr>\n",
       "      <th>76</th>\n",
       "      <td>10.0</td>\n",
       "      <td>500.0</td>\n",
       "      <td>10.0</td>\n",
       "      <td>1024.0</td>\n",
       "      <td>549.733942</td>\n",
       "    </tr>\n",
       "    <tr>\n",
       "      <th>77</th>\n",
       "      <td>100.0</td>\n",
       "      <td>500.0</td>\n",
       "      <td>10.0</td>\n",
       "      <td>1024.0</td>\n",
       "      <td>527.202064</td>\n",
       "    </tr>\n",
       "    <tr>\n",
       "      <th>78</th>\n",
       "      <td>1.0</td>\n",
       "      <td>100.0</td>\n",
       "      <td>10.0</td>\n",
       "      <td>1024.0</td>\n",
       "      <td>334.223797</td>\n",
       "    </tr>\n",
       "    <tr>\n",
       "      <th>79</th>\n",
       "      <td>10.0</td>\n",
       "      <td>100.0</td>\n",
       "      <td>10.0</td>\n",
       "      <td>1024.0</td>\n",
       "      <td>365.435748</td>\n",
       "    </tr>\n",
       "    <tr>\n",
       "      <th>80</th>\n",
       "      <td>100.0</td>\n",
       "      <td>100.0</td>\n",
       "      <td>10.0</td>\n",
       "      <td>1024.0</td>\n",
       "      <td>360.007062</td>\n",
       "    </tr>\n",
       "  </tbody>\n",
       "</table>\n",
       "<p>81 rows × 5 columns</p>\n",
       "</div>"
      ],
      "text/plain": [
       "    delay  bandwidth  packet_loss  batch_size  throughput\n",
       "0     1.0     1000.0          0.0        32.0  245.090094\n",
       "1    10.0     1000.0          0.0        32.0    7.633273\n",
       "2   100.0     1000.0          0.0        32.0    7.017627\n",
       "3     1.0      500.0          0.0        32.0  299.186970\n",
       "4    10.0      500.0          0.0        32.0   18.175055\n",
       "..    ...        ...          ...         ...         ...\n",
       "76   10.0      500.0         10.0      1024.0  549.733942\n",
       "77  100.0      500.0         10.0      1024.0  527.202064\n",
       "78    1.0      100.0         10.0      1024.0  334.223797\n",
       "79   10.0      100.0         10.0      1024.0  365.435748\n",
       "80  100.0      100.0         10.0      1024.0  360.007062\n",
       "\n",
       "[81 rows x 5 columns]"
      ]
     },
     "execution_count": 21,
     "metadata": {},
     "output_type": "execute_result"
    }
   ],
   "source": [
    "mnist_dataset[0]"
   ]
  },
  {
   "cell_type": "code",
   "execution_count": 22,
   "metadata": {},
   "outputs": [],
   "source": [
    "imagenet_dataset = []\n",
    "for mtype in mtypes:\n",
    "    imagenet_dataset.append(\n",
    "        log_getter_fn(\n",
    "            base_datadir, 'imagenet',mtype,batch_sizes, losses, bandwidths, delays\n",
    "        )               \n",
    "    )"
   ]
  },
  {
   "cell_type": "code",
   "execution_count": 23,
   "metadata": {},
   "outputs": [
    {
     "data": {
      "text/html": [
       "<div>\n",
       "<style scoped>\n",
       "    .dataframe tbody tr th:only-of-type {\n",
       "        vertical-align: middle;\n",
       "    }\n",
       "\n",
       "    .dataframe tbody tr th {\n",
       "        vertical-align: top;\n",
       "    }\n",
       "\n",
       "    .dataframe thead th {\n",
       "        text-align: right;\n",
       "    }\n",
       "</style>\n",
       "<table border=\"1\" class=\"dataframe\">\n",
       "  <thead>\n",
       "    <tr style=\"text-align: right;\">\n",
       "      <th></th>\n",
       "      <th>delay</th>\n",
       "      <th>bandwidth</th>\n",
       "      <th>packet_loss</th>\n",
       "      <th>batch_size</th>\n",
       "      <th>throughput</th>\n",
       "    </tr>\n",
       "  </thead>\n",
       "  <tbody>\n",
       "    <tr>\n",
       "      <th>0</th>\n",
       "      <td>1.0</td>\n",
       "      <td>1000.0</td>\n",
       "      <td>0.0</td>\n",
       "      <td>32.0</td>\n",
       "      <td>135.068460</td>\n",
       "    </tr>\n",
       "    <tr>\n",
       "      <th>1</th>\n",
       "      <td>10.0</td>\n",
       "      <td>1000.0</td>\n",
       "      <td>0.0</td>\n",
       "      <td>32.0</td>\n",
       "      <td>3.287783</td>\n",
       "    </tr>\n",
       "    <tr>\n",
       "      <th>2</th>\n",
       "      <td>100.0</td>\n",
       "      <td>1000.0</td>\n",
       "      <td>0.0</td>\n",
       "      <td>32.0</td>\n",
       "      <td>3.489110</td>\n",
       "    </tr>\n",
       "    <tr>\n",
       "      <th>3</th>\n",
       "      <td>1.0</td>\n",
       "      <td>500.0</td>\n",
       "      <td>0.0</td>\n",
       "      <td>32.0</td>\n",
       "      <td>6.800478</td>\n",
       "    </tr>\n",
       "    <tr>\n",
       "      <th>4</th>\n",
       "      <td>10.0</td>\n",
       "      <td>500.0</td>\n",
       "      <td>0.0</td>\n",
       "      <td>32.0</td>\n",
       "      <td>6.260554</td>\n",
       "    </tr>\n",
       "    <tr>\n",
       "      <th>...</th>\n",
       "      <td>...</td>\n",
       "      <td>...</td>\n",
       "      <td>...</td>\n",
       "      <td>...</td>\n",
       "      <td>...</td>\n",
       "    </tr>\n",
       "    <tr>\n",
       "      <th>76</th>\n",
       "      <td>10.0</td>\n",
       "      <td>500.0</td>\n",
       "      <td>10.0</td>\n",
       "      <td>1024.0</td>\n",
       "      <td>2504.015574</td>\n",
       "    </tr>\n",
       "    <tr>\n",
       "      <th>77</th>\n",
       "      <td>100.0</td>\n",
       "      <td>500.0</td>\n",
       "      <td>10.0</td>\n",
       "      <td>1024.0</td>\n",
       "      <td>1708.945016</td>\n",
       "    </tr>\n",
       "    <tr>\n",
       "      <th>78</th>\n",
       "      <td>1.0</td>\n",
       "      <td>100.0</td>\n",
       "      <td>10.0</td>\n",
       "      <td>1024.0</td>\n",
       "      <td>764.587349</td>\n",
       "    </tr>\n",
       "    <tr>\n",
       "      <th>79</th>\n",
       "      <td>10.0</td>\n",
       "      <td>100.0</td>\n",
       "      <td>10.0</td>\n",
       "      <td>1024.0</td>\n",
       "      <td>746.595898</td>\n",
       "    </tr>\n",
       "    <tr>\n",
       "      <th>80</th>\n",
       "      <td>100.0</td>\n",
       "      <td>100.0</td>\n",
       "      <td>10.0</td>\n",
       "      <td>1024.0</td>\n",
       "      <td>881.544245</td>\n",
       "    </tr>\n",
       "  </tbody>\n",
       "</table>\n",
       "<p>81 rows × 5 columns</p>\n",
       "</div>"
      ],
      "text/plain": [
       "    delay  bandwidth  packet_loss  batch_size   throughput\n",
       "0     1.0     1000.0          0.0        32.0   135.068460\n",
       "1    10.0     1000.0          0.0        32.0     3.287783\n",
       "2   100.0     1000.0          0.0        32.0     3.489110\n",
       "3     1.0      500.0          0.0        32.0     6.800478\n",
       "4    10.0      500.0          0.0        32.0     6.260554\n",
       "..    ...        ...          ...         ...          ...\n",
       "76   10.0      500.0         10.0      1024.0  2504.015574\n",
       "77  100.0      500.0         10.0      1024.0  1708.945016\n",
       "78    1.0      100.0         10.0      1024.0   764.587349\n",
       "79   10.0      100.0         10.0      1024.0   746.595898\n",
       "80  100.0      100.0         10.0      1024.0   881.544245\n",
       "\n",
       "[81 rows x 5 columns]"
      ]
     },
     "execution_count": 23,
     "metadata": {},
     "output_type": "execute_result"
    }
   ],
   "source": [
    "imagenet_dataset[0]"
   ]
  },
  {
   "cell_type": "markdown",
   "metadata": {},
   "source": [
    "### Save csv files"
   ]
  },
  {
   "cell_type": "code",
   "execution_count": 24,
   "metadata": {},
   "outputs": [],
   "source": [
    "base_savedir = '/home/tkurihana/class/networking/NSD-Project-Rui/tf-benchmark'"
   ]
  },
  {
   "cell_type": "code",
   "execution_count": 25,
   "metadata": {},
   "outputs": [],
   "source": [
    "# mnist\n",
    "for idx, m in enumerate(mtypes):\n",
    "    mnist_dataset[idx].to_csv(os.path.join(base_savedir+'/mnist_benchmarks' , \"tf_mnist_\"+str(m)+\".csv\"))"
   ]
  },
  {
   "cell_type": "code",
   "execution_count": 26,
   "metadata": {},
   "outputs": [],
   "source": [
    "# imagenet\n",
    "for idx, m in enumerate(mtypes):\n",
    "    imagenet_dataset[idx].to_csv(os.path.join(base_savedir+'/imagenet_benchmarks' , \"tf_mnist_\"+str(m)+\".csv\"))"
   ]
  },
  {
   "cell_type": "markdown",
   "metadata": {},
   "source": [
    "### Load csv & Visualize\n",
    "Memo: Resnet min value gets lower than 1 --> cannot use log y scale "
   ]
  },
  {
   "cell_type": "code",
   "execution_count": 27,
   "metadata": {},
   "outputs": [],
   "source": [
    "base_tfdir='/home/tkurihana/class/networking/NSD-Project-Rui/tf-benchmark/'"
   ]
  },
  {
   "cell_type": "markdown",
   "metadata": {},
   "source": [
    "- Load MNIST MLP"
   ]
  },
  {
   "cell_type": "code",
   "execution_count": 95,
   "metadata": {},
   "outputs": [],
   "source": [
    "data  = pd.read_csv(glob.glob(os.path.join(base_tfdir, 'mnist_benchmarks/*mlp*.csv'))[0], index_col=0)"
   ]
  },
  {
   "cell_type": "code",
   "execution_count": 96,
   "metadata": {},
   "outputs": [
    {
     "data": {
      "text/html": [
       "<div>\n",
       "<style scoped>\n",
       "    .dataframe tbody tr th:only-of-type {\n",
       "        vertical-align: middle;\n",
       "    }\n",
       "\n",
       "    .dataframe tbody tr th {\n",
       "        vertical-align: top;\n",
       "    }\n",
       "\n",
       "    .dataframe thead th {\n",
       "        text-align: right;\n",
       "    }\n",
       "</style>\n",
       "<table border=\"1\" class=\"dataframe\">\n",
       "  <thead>\n",
       "    <tr style=\"text-align: right;\">\n",
       "      <th></th>\n",
       "      <th>delay</th>\n",
       "      <th>bandwidth</th>\n",
       "      <th>packet_loss</th>\n",
       "      <th>batch_size</th>\n",
       "      <th>throughput</th>\n",
       "    </tr>\n",
       "  </thead>\n",
       "  <tbody>\n",
       "    <tr>\n",
       "      <th>0</th>\n",
       "      <td>1.0</td>\n",
       "      <td>1000.0</td>\n",
       "      <td>0.0</td>\n",
       "      <td>32.0</td>\n",
       "      <td>245.090094</td>\n",
       "    </tr>\n",
       "    <tr>\n",
       "      <th>1</th>\n",
       "      <td>10.0</td>\n",
       "      <td>1000.0</td>\n",
       "      <td>0.0</td>\n",
       "      <td>32.0</td>\n",
       "      <td>7.633273</td>\n",
       "    </tr>\n",
       "    <tr>\n",
       "      <th>2</th>\n",
       "      <td>100.0</td>\n",
       "      <td>1000.0</td>\n",
       "      <td>0.0</td>\n",
       "      <td>32.0</td>\n",
       "      <td>7.017627</td>\n",
       "    </tr>\n",
       "    <tr>\n",
       "      <th>3</th>\n",
       "      <td>1.0</td>\n",
       "      <td>500.0</td>\n",
       "      <td>0.0</td>\n",
       "      <td>32.0</td>\n",
       "      <td>299.186970</td>\n",
       "    </tr>\n",
       "    <tr>\n",
       "      <th>4</th>\n",
       "      <td>10.0</td>\n",
       "      <td>500.0</td>\n",
       "      <td>0.0</td>\n",
       "      <td>32.0</td>\n",
       "      <td>18.175055</td>\n",
       "    </tr>\n",
       "    <tr>\n",
       "      <th>...</th>\n",
       "      <td>...</td>\n",
       "      <td>...</td>\n",
       "      <td>...</td>\n",
       "      <td>...</td>\n",
       "      <td>...</td>\n",
       "    </tr>\n",
       "    <tr>\n",
       "      <th>76</th>\n",
       "      <td>10.0</td>\n",
       "      <td>500.0</td>\n",
       "      <td>10.0</td>\n",
       "      <td>1024.0</td>\n",
       "      <td>549.733942</td>\n",
       "    </tr>\n",
       "    <tr>\n",
       "      <th>77</th>\n",
       "      <td>100.0</td>\n",
       "      <td>500.0</td>\n",
       "      <td>10.0</td>\n",
       "      <td>1024.0</td>\n",
       "      <td>527.202064</td>\n",
       "    </tr>\n",
       "    <tr>\n",
       "      <th>78</th>\n",
       "      <td>1.0</td>\n",
       "      <td>100.0</td>\n",
       "      <td>10.0</td>\n",
       "      <td>1024.0</td>\n",
       "      <td>334.223797</td>\n",
       "    </tr>\n",
       "    <tr>\n",
       "      <th>79</th>\n",
       "      <td>10.0</td>\n",
       "      <td>100.0</td>\n",
       "      <td>10.0</td>\n",
       "      <td>1024.0</td>\n",
       "      <td>365.435748</td>\n",
       "    </tr>\n",
       "    <tr>\n",
       "      <th>80</th>\n",
       "      <td>100.0</td>\n",
       "      <td>100.0</td>\n",
       "      <td>10.0</td>\n",
       "      <td>1024.0</td>\n",
       "      <td>360.007062</td>\n",
       "    </tr>\n",
       "  </tbody>\n",
       "</table>\n",
       "<p>81 rows × 5 columns</p>\n",
       "</div>"
      ],
      "text/plain": [
       "    delay  bandwidth  packet_loss  batch_size  throughput\n",
       "0     1.0     1000.0          0.0        32.0  245.090094\n",
       "1    10.0     1000.0          0.0        32.0    7.633273\n",
       "2   100.0     1000.0          0.0        32.0    7.017627\n",
       "3     1.0      500.0          0.0        32.0  299.186970\n",
       "4    10.0      500.0          0.0        32.0   18.175055\n",
       "..    ...        ...          ...         ...         ...\n",
       "76   10.0      500.0         10.0      1024.0  549.733942\n",
       "77  100.0      500.0         10.0      1024.0  527.202064\n",
       "78    1.0      100.0         10.0      1024.0  334.223797\n",
       "79   10.0      100.0         10.0      1024.0  365.435748\n",
       "80  100.0      100.0         10.0      1024.0  360.007062\n",
       "\n",
       "[81 rows x 5 columns]"
      ]
     },
     "execution_count": 96,
     "metadata": {},
     "output_type": "execute_result"
    }
   ],
   "source": [
    "data"
   ]
  },
  {
   "cell_type": "markdown",
   "metadata": {},
   "source": [
    "- search data"
   ]
  },
  {
   "cell_type": "code",
   "execution_count": 31,
   "metadata": {},
   "outputs": [],
   "source": [
    "tmp = data.query(\" delay == 1 & batch_size == 32\")"
   ]
  },
  {
   "cell_type": "code",
   "execution_count": 32,
   "metadata": {},
   "outputs": [
    {
     "data": {
      "text/html": [
       "<div>\n",
       "<style scoped>\n",
       "    .dataframe tbody tr th:only-of-type {\n",
       "        vertical-align: middle;\n",
       "    }\n",
       "\n",
       "    .dataframe tbody tr th {\n",
       "        vertical-align: top;\n",
       "    }\n",
       "\n",
       "    .dataframe thead th {\n",
       "        text-align: right;\n",
       "    }\n",
       "</style>\n",
       "<table border=\"1\" class=\"dataframe\">\n",
       "  <thead>\n",
       "    <tr style=\"text-align: right;\">\n",
       "      <th></th>\n",
       "      <th>delay</th>\n",
       "      <th>bandwidth</th>\n",
       "      <th>packet_loss</th>\n",
       "      <th>batch_size</th>\n",
       "      <th>throughput</th>\n",
       "    </tr>\n",
       "  </thead>\n",
       "  <tbody>\n",
       "    <tr>\n",
       "      <th>0</th>\n",
       "      <td>1.0</td>\n",
       "      <td>1000.0</td>\n",
       "      <td>0.0</td>\n",
       "      <td>32.0</td>\n",
       "      <td>245.090094</td>\n",
       "    </tr>\n",
       "    <tr>\n",
       "      <th>3</th>\n",
       "      <td>1.0</td>\n",
       "      <td>500.0</td>\n",
       "      <td>0.0</td>\n",
       "      <td>32.0</td>\n",
       "      <td>299.186970</td>\n",
       "    </tr>\n",
       "    <tr>\n",
       "      <th>6</th>\n",
       "      <td>1.0</td>\n",
       "      <td>100.0</td>\n",
       "      <td>0.0</td>\n",
       "      <td>32.0</td>\n",
       "      <td>28.747348</td>\n",
       "    </tr>\n",
       "    <tr>\n",
       "      <th>9</th>\n",
       "      <td>1.0</td>\n",
       "      <td>1000.0</td>\n",
       "      <td>1.0</td>\n",
       "      <td>32.0</td>\n",
       "      <td>220.498143</td>\n",
       "    </tr>\n",
       "    <tr>\n",
       "      <th>12</th>\n",
       "      <td>1.0</td>\n",
       "      <td>500.0</td>\n",
       "      <td>1.0</td>\n",
       "      <td>32.0</td>\n",
       "      <td>231.329640</td>\n",
       "    </tr>\n",
       "    <tr>\n",
       "      <th>15</th>\n",
       "      <td>1.0</td>\n",
       "      <td>100.0</td>\n",
       "      <td>1.0</td>\n",
       "      <td>32.0</td>\n",
       "      <td>126.273808</td>\n",
       "    </tr>\n",
       "    <tr>\n",
       "      <th>18</th>\n",
       "      <td>1.0</td>\n",
       "      <td>1000.0</td>\n",
       "      <td>10.0</td>\n",
       "      <td>32.0</td>\n",
       "      <td>17.001682</td>\n",
       "    </tr>\n",
       "    <tr>\n",
       "      <th>21</th>\n",
       "      <td>1.0</td>\n",
       "      <td>500.0</td>\n",
       "      <td>10.0</td>\n",
       "      <td>32.0</td>\n",
       "      <td>16.537147</td>\n",
       "    </tr>\n",
       "    <tr>\n",
       "      <th>24</th>\n",
       "      <td>1.0</td>\n",
       "      <td>100.0</td>\n",
       "      <td>10.0</td>\n",
       "      <td>32.0</td>\n",
       "      <td>13.719517</td>\n",
       "    </tr>\n",
       "  </tbody>\n",
       "</table>\n",
       "</div>"
      ],
      "text/plain": [
       "    delay  bandwidth  packet_loss  batch_size  throughput\n",
       "0     1.0     1000.0          0.0        32.0  245.090094\n",
       "3     1.0      500.0          0.0        32.0  299.186970\n",
       "6     1.0      100.0          0.0        32.0   28.747348\n",
       "9     1.0     1000.0          1.0        32.0  220.498143\n",
       "12    1.0      500.0          1.0        32.0  231.329640\n",
       "15    1.0      100.0          1.0        32.0  126.273808\n",
       "18    1.0     1000.0         10.0        32.0   17.001682\n",
       "21    1.0      500.0         10.0        32.0   16.537147\n",
       "24    1.0      100.0         10.0        32.0   13.719517"
      ]
     },
     "execution_count": 32,
     "metadata": {},
     "output_type": "execute_result"
    }
   ],
   "source": [
    "tmp"
   ]
  },
  {
   "cell_type": "code",
   "execution_count": 33,
   "metadata": {},
   "outputs": [],
   "source": [
    "tmp = data[(data['delay']==1) & (data['batch_size']==32) & (data['bandwidth']==1000) & (data['packet_loss']==0) ]"
   ]
  },
  {
   "cell_type": "code",
   "execution_count": 34,
   "metadata": {},
   "outputs": [
    {
     "data": {
      "text/html": [
       "<div>\n",
       "<style scoped>\n",
       "    .dataframe tbody tr th:only-of-type {\n",
       "        vertical-align: middle;\n",
       "    }\n",
       "\n",
       "    .dataframe tbody tr th {\n",
       "        vertical-align: top;\n",
       "    }\n",
       "\n",
       "    .dataframe thead th {\n",
       "        text-align: right;\n",
       "    }\n",
       "</style>\n",
       "<table border=\"1\" class=\"dataframe\">\n",
       "  <thead>\n",
       "    <tr style=\"text-align: right;\">\n",
       "      <th></th>\n",
       "      <th>delay</th>\n",
       "      <th>bandwidth</th>\n",
       "      <th>packet_loss</th>\n",
       "      <th>batch_size</th>\n",
       "      <th>throughput</th>\n",
       "    </tr>\n",
       "  </thead>\n",
       "  <tbody>\n",
       "    <tr>\n",
       "      <th>0</th>\n",
       "      <td>1.0</td>\n",
       "      <td>1000.0</td>\n",
       "      <td>0.0</td>\n",
       "      <td>32.0</td>\n",
       "      <td>245.090094</td>\n",
       "    </tr>\n",
       "  </tbody>\n",
       "</table>\n",
       "</div>"
      ],
      "text/plain": [
       "   delay  bandwidth  packet_loss  batch_size  throughput\n",
       "0    1.0     1000.0          0.0        32.0  245.090094"
      ]
     },
     "execution_count": 34,
     "metadata": {},
     "output_type": "execute_result"
    }
   ],
   "source": [
    "tmp"
   ]
  },
  {
   "cell_type": "code",
   "execution_count": 48,
   "metadata": {},
   "outputs": [],
   "source": [
    "throughput_list = []\n",
    "for j in [32,128,1024]:\n",
    "    tmp_list = []\n",
    "    for i in [1,10,100]:\n",
    "        _array = data[(data['delay']==i) & (data['batch_size']==j) & (data['bandwidth']==1000) & (data['packet_loss']==0)].values\n",
    "        tmp_list.append(_array[0,-1])\n",
    "    throughput_list.append(tmp_list)"
   ]
  },
  {
   "cell_type": "code",
   "execution_count": 49,
   "metadata": {},
   "outputs": [
    {
     "data": {
      "text/plain": [
       "[[245.0900944267218, 7.633273144814438, 7.017626620080351],\n",
       " [1012.5203865379714, 27.3987658766697, 30.09365054973613],\n",
       " [8184.225005550118, 242.40611314943757, 218.09325220331417]]"
      ]
     },
     "execution_count": 49,
     "metadata": {},
     "output_type": "execute_result"
    }
   ],
   "source": [
    "throughput_list"
   ]
  },
  {
   "cell_type": "markdown",
   "metadata": {},
   "source": [
    "- visualization : Latency for mnist at bandwidth == 1000, packet loss ==0"
   ]
  },
  {
   "cell_type": "code",
   "execution_count": 73,
   "metadata": {},
   "outputs": [
    {
     "data": {
      "image/png": "[encoded data removed]",
      "text/plain": [
       "<Figure size 432x288 with 1 Axes>"
      ]
     },
     "metadata": {
      "needs_background": "light"
     },
     "output_type": "display_data"
    }
   ],
   "source": [
    "plt.figure(figsize=(6,4))\n",
    "for idx, _th in enumerate(throughput_list):\n",
    "    x = [i + idx*0.2 for i in range(len(_th))]\n",
    "    plt.bar(x,_th, width=0.2, label=str(batch_sizes[idx]))\n",
    "    if idx == 1:\n",
    "        plt.xticks(x, ['1 ms', '10 ms', '100 ms'],fontsize=14)\n",
    "plt.yscale('log')\n",
    "plt.yticks(fontsize=14)\n",
    "plt.grid(True, axis='y')\n",
    "plt.legend(fontsize=12)\n",
    "plt.show()"
   ]
  },
  {
   "cell_type": "markdown",
   "metadata": {},
   "source": [
    "#### Make automatic figure"
   ]
  },
  {
   "cell_type": "markdown",
   "metadata": {},
   "source": [
    "- MLP - Delay - Batch size"
   ]
  },
  {
   "cell_type": "code",
   "execution_count": 79,
   "metadata": {},
   "outputs": [
    {
     "data": {
      "text/plain": [
       "9558.672621800755"
      ]
     },
     "execution_count": 79,
     "metadata": {},
     "output_type": "execute_result"
    }
   ],
   "source": [
    "data['throughput'].max()"
   ]
  },
  {
   "cell_type": "code",
   "execution_count": 99,
   "metadata": {},
   "outputs": [],
   "source": [
    "### delay \n",
    "base_savedir = './fig/mnist/mlp/delay'\n",
    "os.makedirs(base_savedir, exist_ok=True)\n",
    "for iloss in [0, 1,10]:\n",
    "    for ibandwidth in [1000, 500, 100]:\n",
    "        \n",
    "        # data query\n",
    "        throughput_list = []\n",
    "        for ibatch in [32,128,1024]:\n",
    "            tmp_list = []\n",
    "            for idelay in [1,10,100]:\n",
    "                _array = data[(data['delay']==idelay) & (data['batch_size']==ibatch) & (data['bandwidth']==ibandwidth) & (data['packet_loss']==iloss)].values\n",
    "                tmp_list.append(_array[0,-1])\n",
    "            throughput_list.append(tmp_list)\n",
    "            \n",
    "        # data vis\n",
    "        fig = plt.figure(figsize=(6,4))\n",
    "        for idx, _th in enumerate(throughput_list):\n",
    "            x = [i + idx*0.2 for i in range(len(_th))]\n",
    "            plt.bar(x,_th, width=0.2, label=str(batch_sizes[idx]))\n",
    "            if idx == 1:\n",
    "                plt.xticks(x, ['1 ms', '10 ms', '100 ms'],fontsize=14)\n",
    "        plt.yscale('log')\n",
    "        plt.yticks(fontsize=14)\n",
    "        plt.ylim(1,10**5)\n",
    "        plt.ylabel(\"Throughput [Image/sec]\", fontsize=14)\n",
    "        plt.xlabel(\"Latency\", fontsize=14)\n",
    "        plt.grid(True, axis='y')\n",
    "        plt.legend(fontsize=12)\n",
    "        fig.tight_layout()\n",
    "        plt.savefig(os.path.join(base_savedir, 'fig_delays_bandwidth-'+str(ibandwidth)+'_ps-'+str(iloss)+'.png'))\n",
    "        plt.close()"
   ]
  },
  {
   "cell_type": "markdown",
   "metadata": {},
   "source": [
    "#### MLP - bandwidth Batch size"
   ]
  },
  {
   "cell_type": "code",
   "execution_count": 101,
   "metadata": {},
   "outputs": [],
   "source": [
    "### bandwidth\n",
    "base_savedir = './fig/mnist/mlp/bandwidth'\n",
    "os.makedirs(base_savedir, exist_ok=True)\n",
    "for iloss in [0, 1,10]:\n",
    "    for idelay in [1, 10, 100]:\n",
    "        \n",
    "        # data query\n",
    "        throughput_list = []\n",
    "        for ibatch in [32,128,1024]:\n",
    "            tmp_list = []\n",
    "            for ibandwidth in [1000, 500, 100]:\n",
    "                _array = data[(data['delay']==idelay) & (data['batch_size']==ibatch) & (data['bandwidth']==ibandwidth) & (data['packet_loss']==iloss)].values\n",
    "                tmp_list.append(_array[0,-1])\n",
    "            throughput_list.append(tmp_list)\n",
    "            \n",
    "        # data vis\n",
    "        fig= plt.figure(figsize=(6,4))\n",
    "        for idx, _th in enumerate(throughput_list):\n",
    "            x = [i + idx*0.2 for i in range(len(_th))]\n",
    "            plt.bar(x,_th, width=0.2, label=str(batch_sizes[idx]))\n",
    "            if idx == 1:\n",
    "                plt.xticks(x, ['1000 mbit', '500 mbit', '100 mbit'],fontsize=14)\n",
    "        plt.yscale('log')\n",
    "        plt.yticks(fontsize=14)\n",
    "        plt.ylim(1,10**5)\n",
    "        plt.ylabel(\"Throughput [Image/sec]\", fontsize=14)\n",
    "        plt.xlabel(\"Bandwidth\", fontsize=14)\n",
    "        plt.grid(True, axis='y')\n",
    "        plt.legend(fontsize=12)\n",
    "        fig.tight_layout()\n",
    "        plt.savefig(os.path.join(base_savedir, 'fig_bandwidth_delay-'+str(idelay)+'_ps-'+str(iloss)+'.png'))\n",
    "        plt.close()"
   ]
  },
  {
   "cell_type": "markdown",
   "metadata": {},
   "source": [
    "#### MLP - packet loss -  Batch size"
   ]
  },
  {
   "cell_type": "code",
   "execution_count": 102,
   "metadata": {},
   "outputs": [],
   "source": [
    "### packet loss\n",
    "base_savedir = './fig/mnist/mlp/packet_loss'\n",
    "os.makedirs(base_savedir, exist_ok=True)\n",
    "for ibandwidth in [1000, 500, 100]:\n",
    "    for idelay in [1, 10, 100]:\n",
    "        \n",
    "        # data query\n",
    "        throughput_list = []\n",
    "        for ibatch in [32,128,1024]:\n",
    "            tmp_list = []\n",
    "            for iloss in [0, 1, 10]:\n",
    "                _array = data[(data['delay']==idelay) & (data['batch_size']==ibatch) & (data['bandwidth']==ibandwidth) & (data['packet_loss']==iloss)].values\n",
    "                tmp_list.append(_array[0,-1])\n",
    "            throughput_list.append(tmp_list)\n",
    "            \n",
    "        # data vis\n",
    "        fig = plt.figure(figsize=(6,4))\n",
    "        for idx, _th in enumerate(throughput_list):\n",
    "            x = [i + idx*0.2 for i in range(len(_th))]\n",
    "            plt.bar(x,_th, width=0.2, label=str(batch_sizes[idx]))\n",
    "            if idx == 1:\n",
    "                plt.xticks(x, ['0 %', '1 %', '10 %'],fontsize=14)\n",
    "        plt.yscale('log')\n",
    "        plt.yticks(fontsize=14)\n",
    "        plt.ylim(1,10**5)\n",
    "        plt.ylabel(\"Throughput [Image/sec]\", fontsize=14)\n",
    "        plt.xlabel(\"Packet Loss\", fontsize=14)\n",
    "        plt.grid(True, axis='y')\n",
    "        plt.legend(fontsize=12)\n",
    "        fig.tight_layout()\n",
    "        plt.savefig(os.path.join(base_savedir, 'fig_PacketLoss_delay-'+str(idelay)+'_bandwidth-'+str(ibandwidth)+'.png'))\n",
    "        plt.close()"
   ]
  },
  {
   "cell_type": "markdown",
   "metadata": {},
   "source": [
    "- MNIST Mobilenet"
   ]
  },
  {
   "cell_type": "code",
   "execution_count": 117,
   "metadata": {},
   "outputs": [],
   "source": [
    "data  = pd.read_csv(glob.glob(os.path.join(base_tfdir, 'mnist_benchmarks/*mobilenet*.csv'))[0], index_col=0)"
   ]
  },
  {
   "cell_type": "code",
   "execution_count": 104,
   "metadata": {},
   "outputs": [
    {
     "data": {
      "text/plain": [
       "(12313.347634355448, 1.091783400532328)"
      ]
     },
     "execution_count": 104,
     "metadata": {},
     "output_type": "execute_result"
    }
   ],
   "source": [
    "data['throughput'].max(), data['throughput'].min()"
   ]
  },
  {
   "cell_type": "markdown",
   "metadata": {},
   "source": [
    "#### Mobilenet - Delay - Batch size"
   ]
  },
  {
   "cell_type": "code",
   "execution_count": 118,
   "metadata": {},
   "outputs": [],
   "source": [
    "### delay \n",
    "base_savedir = './fig/mnist/mobilenet/delay'\n",
    "os.makedirs(base_savedir, exist_ok=True)\n",
    "for iloss in [0, 1,10]:\n",
    "    for ibandwidth in [1000, 500, 100]:\n",
    "        \n",
    "        # data query\n",
    "        throughput_list = []\n",
    "        for ibatch in [32,128,1024]:\n",
    "            tmp_list = []\n",
    "            for idelay in [1,10,100]:\n",
    "                _array = data[(data['delay']==idelay) & (data['batch_size']==ibatch) & (data['bandwidth']==ibandwidth) & (data['packet_loss']==iloss)].values\n",
    "                tmp_list.append(_array[0,-1])\n",
    "            throughput_list.append(tmp_list)\n",
    "            \n",
    "        # data vis\n",
    "        fig = plt.figure(figsize=(6,4))\n",
    "        for idx, _th in enumerate(throughput_list):\n",
    "            x = [i + idx*0.2 for i in range(len(_th))]\n",
    "            plt.bar(x,_th, width=0.2, label=str(batch_sizes[idx]))\n",
    "            if idx == 1:\n",
    "                plt.xticks(x, ['1 ms', '10 ms', '100 ms'],fontsize=14)\n",
    "        plt.yscale('log')\n",
    "        plt.yticks(fontsize=14)\n",
    "        plt.ylim(1,10**5)\n",
    "        plt.ylabel(\"Throughput [Image/sec]\", fontsize=14)\n",
    "        plt.xlabel(\"Latency\", fontsize=14)\n",
    "        plt.grid(True, axis='y')\n",
    "        plt.legend(fontsize=12)\n",
    "        fig.tight_layout()\n",
    "        plt.savefig(os.path.join(base_savedir, 'fig_delays_bandwidth-'+str(ibandwidth)+'_ps-'+str(iloss)+'.png'))\n",
    "        plt.close()"
   ]
  },
  {
   "cell_type": "code",
   "execution_count": 119,
   "metadata": {},
   "outputs": [],
   "source": [
    "### bandwidth\n",
    "base_savedir = './fig/mnist/mobilenet/bandwidth'\n",
    "os.makedirs(base_savedir, exist_ok=True)\n",
    "for iloss in [0, 1,10]:\n",
    "    for idelay in [1, 10, 100]:\n",
    "        \n",
    "        # data query\n",
    "        throughput_list = []\n",
    "        for ibatch in [32,128,1024]:\n",
    "            tmp_list = []\n",
    "            for ibandwidth in [1000, 500, 100]:\n",
    "                _array = data[(data['delay']==idelay) & (data['batch_size']==ibatch) & (data['bandwidth']==ibandwidth) & (data['packet_loss']==iloss)].values\n",
    "                tmp_list.append(_array[0,-1])\n",
    "            throughput_list.append(tmp_list)\n",
    "            \n",
    "        # data vis\n",
    "        fig= plt.figure(figsize=(6,4))\n",
    "        for idx, _th in enumerate(throughput_list):\n",
    "            x = [i + idx*0.2 for i in range(len(_th))]\n",
    "            plt.bar(x,_th, width=0.2, label=str(batch_sizes[idx]))\n",
    "            if idx == 1:\n",
    "                plt.xticks(x, ['1000 mbit', '500 mbit', '100 mbit'],fontsize=14)\n",
    "        plt.yscale('log')\n",
    "        plt.yticks(fontsize=14)\n",
    "        plt.ylim(1,10**5)\n",
    "        plt.ylabel(\"Throughput [Image/sec]\", fontsize=14)\n",
    "        plt.xlabel(\"Bandwidth\", fontsize=14)\n",
    "        plt.grid(True, axis='y')\n",
    "        plt.legend(fontsize=12)\n",
    "        fig.tight_layout()\n",
    "        plt.savefig(os.path.join(base_savedir, 'fig_bandwidth_delay-'+str(idelay)+'_ps-'+str(iloss)+'.png'))\n",
    "        plt.close()"
   ]
  },
  {
   "cell_type": "code",
   "execution_count": 120,
   "metadata": {},
   "outputs": [],
   "source": [
    "### packet loss\n",
    "base_savedir = './fig/mnist/mobilenet/packet_loss'\n",
    "os.makedirs(base_savedir, exist_ok=True)\n",
    "for ibandwidth in [1000, 500, 100]:\n",
    "    for idelay in [1, 10, 100]:\n",
    "        \n",
    "        # data query\n",
    "        throughput_list = []\n",
    "        for ibatch in [32,128,1024]:\n",
    "            tmp_list = []\n",
    "            for iloss in [0, 1, 10]:\n",
    "                _array = data[(data['delay']==idelay) & (data['batch_size']==ibatch) & (data['bandwidth']==ibandwidth) & (data['packet_loss']==iloss)].values\n",
    "                tmp_list.append(_array[0,-1])\n",
    "            throughput_list.append(tmp_list)\n",
    "            \n",
    "        # data vis\n",
    "        fig = plt.figure(figsize=(6,4))\n",
    "        for idx, _th in enumerate(throughput_list):\n",
    "            x = [i + idx*0.2 for i in range(len(_th))]\n",
    "            plt.bar(x,_th, width=0.2, label=str(batch_sizes[idx]))\n",
    "            if idx == 1:\n",
    "                plt.xticks(x, ['0 %', '1 %', '10 %'],fontsize=14)\n",
    "        plt.yscale('log')\n",
    "        plt.yticks(fontsize=14)\n",
    "        plt.ylim(1,10**5)\n",
    "        plt.ylabel(\"Throughput [Image/sec]\", fontsize=14)\n",
    "        plt.xlabel(\"Packet Loss\", fontsize=14)\n",
    "        plt.grid(True, axis='y')\n",
    "        plt.legend(fontsize=12)\n",
    "        fig.tight_layout()\n",
    "        plt.savefig(os.path.join(base_savedir, 'fig_PacketLoss_delay-'+str(idelay)+'_bandwidth-'+str(ibandwidth)+'.png'))\n",
    "        plt.close()"
   ]
  },
  {
   "cell_type": "markdown",
   "metadata": {},
   "source": [
    "#### Resnet - mnist"
   ]
  },
  {
   "cell_type": "code",
   "execution_count": 111,
   "metadata": {},
   "outputs": [],
   "source": [
    "data  = pd.read_csv(glob.glob(os.path.join(base_tfdir, 'mnist_benchmarks/*resnet*.csv'))[0], index_col=0)"
   ]
  },
  {
   "cell_type": "code",
   "execution_count": 113,
   "metadata": {},
   "outputs": [
    {
     "data": {
      "text/plain": [
       "(324.77516886139165, 0.15431451682549527)"
      ]
     },
     "execution_count": 113,
     "metadata": {},
     "output_type": "execute_result"
    }
   ],
   "source": [
    "data['throughput'].max(), data['throughput'].min()"
   ]
  },
  {
   "cell_type": "code",
   "execution_count": 114,
   "metadata": {},
   "outputs": [],
   "source": [
    "### delay \n",
    "base_savedir = './fig/mnist/resnet/delay'\n",
    "os.makedirs(base_savedir, exist_ok=True)\n",
    "for iloss in [0, 1,10]:\n",
    "    for ibandwidth in [1000, 500, 100]:\n",
    "        \n",
    "        # data query\n",
    "        throughput_list = []\n",
    "        for ibatch in [32,128,1024]:\n",
    "            tmp_list = []\n",
    "            for idelay in [1,10,100]:\n",
    "                _array = data[(data['delay']==idelay) & (data['batch_size']==ibatch) & (data['bandwidth']==ibandwidth) & (data['packet_loss']==iloss)].values\n",
    "                tmp_list.append(_array[0,-1])\n",
    "            throughput_list.append(tmp_list)\n",
    "            \n",
    "        # data vis\n",
    "        fig = plt.figure(figsize=(6,4))\n",
    "        for idx, _th in enumerate(throughput_list):\n",
    "            x = [i + idx*0.2 for i in range(len(_th))]\n",
    "            plt.bar(x,_th, width=0.2, label=str(batch_sizes[idx]))\n",
    "            if idx == 1:\n",
    "                plt.xticks(x, ['1 ms', '10 ms', '100 ms'],fontsize=14)\n",
    "        #plt.yscale('log')\n",
    "        plt.yticks(fontsize=14)\n",
    "        plt.ylim(0,400)\n",
    "        plt.ylabel(\"Throughput [Image/sec]\", fontsize=14)\n",
    "        plt.xlabel(\"Latency\", fontsize=14)\n",
    "        plt.grid(True, axis='y')\n",
    "        plt.legend(fontsize=12)\n",
    "        fig.tight_layout()\n",
    "        plt.savefig(os.path.join(base_savedir, 'fig_delays_bandwidth-'+str(ibandwidth)+'_ps-'+str(iloss)+'.png'))\n",
    "        plt.close()"
   ]
  },
  {
   "cell_type": "code",
   "execution_count": 115,
   "metadata": {},
   "outputs": [],
   "source": [
    "### bandwidth\n",
    "base_savedir = './fig/mnist/resnet/bandwidth'\n",
    "os.makedirs(base_savedir, exist_ok=True)\n",
    "for iloss in [0, 1,10]:\n",
    "    for idelay in [1, 10, 100]:\n",
    "        \n",
    "        # data query\n",
    "        throughput_list = []\n",
    "        for ibatch in [32,128,1024]:\n",
    "            tmp_list = []\n",
    "            for ibandwidth in [1000, 500, 100]:\n",
    "                _array = data[(data['delay']==idelay) & (data['batch_size']==ibatch) & (data['bandwidth']==ibandwidth) & (data['packet_loss']==iloss)].values\n",
    "                tmp_list.append(_array[0,-1])\n",
    "            throughput_list.append(tmp_list)\n",
    "            \n",
    "        # data vis\n",
    "        fig= plt.figure(figsize=(6,4))\n",
    "        for idx, _th in enumerate(throughput_list):\n",
    "            x = [i + idx*0.2 for i in range(len(_th))]\n",
    "            plt.bar(x,_th, width=0.2, label=str(batch_sizes[idx]))\n",
    "            if idx == 1:\n",
    "                plt.xticks(x, ['1000 mbit', '500 mbit', '100 mbit'],fontsize=14)\n",
    "        #plt.yscale('log')\n",
    "        plt.yticks(fontsize=14)\n",
    "        #plt.ylim(1,10**5)\n",
    "        plt.ylim(0,400)\n",
    "        plt.ylabel(\"Throughput [Image/sec]\", fontsize=14)\n",
    "        plt.xlabel(\"Bandwidth\", fontsize=14)\n",
    "        plt.grid(True, axis='y')\n",
    "        plt.legend(fontsize=12)\n",
    "        fig.tight_layout()\n",
    "        plt.savefig(os.path.join(base_savedir, 'fig_bandwidth_delay-'+str(idelay)+'_ps-'+str(iloss)+'.png'))\n",
    "        plt.close()"
   ]
  },
  {
   "cell_type": "code",
   "execution_count": 116,
   "metadata": {},
   "outputs": [],
   "source": [
    "### packet loss\n",
    "base_savedir = './fig/mnist/resnet/packet_loss'\n",
    "os.makedirs(base_savedir, exist_ok=True)\n",
    "for ibandwidth in [1000, 500, 100]:\n",
    "    for idelay in [1, 10, 100]:\n",
    "        \n",
    "        # data query\n",
    "        throughput_list = []\n",
    "        for ibatch in [32,128,1024]:\n",
    "            tmp_list = []\n",
    "            for iloss in [0, 1, 10]:\n",
    "                _array = data[(data['delay']==idelay) & (data['batch_size']==ibatch) & (data['bandwidth']==ibandwidth) & (data['packet_loss']==iloss)].values\n",
    "                tmp_list.append(_array[0,-1])\n",
    "            throughput_list.append(tmp_list)\n",
    "            \n",
    "        # data vis\n",
    "        fig = plt.figure(figsize=(6,4))\n",
    "        for idx, _th in enumerate(throughput_list):\n",
    "            x = [i + idx*0.2 for i in range(len(_th))]\n",
    "            plt.bar(x,_th, width=0.2, label=str(batch_sizes[idx]))\n",
    "            if idx == 1:\n",
    "                plt.xticks(x, ['0 %', '1 %', '10 %'],fontsize=14)\n",
    "        #plt.yscale('log')\n",
    "        plt.yticks(fontsize=14)\n",
    "        #plt.ylim(1,10**5)\n",
    "        plt.ylim(0,400)\n",
    "        plt.ylabel(\"Throughput [Image/sec]\", fontsize=14)\n",
    "        plt.xlabel(\"Packet Loss\", fontsize=14)\n",
    "        plt.grid(True, axis='y')\n",
    "        plt.legend(fontsize=12)\n",
    "        fig.tight_layout()\n",
    "        plt.savefig(os.path.join(base_savedir, 'fig_PacketLoss_delay-'+str(idelay)+'_bandwidth-'+str(ibandwidth)+'.png'))\n",
    "        plt.close()"
   ]
  }
 ],
 "metadata": {
  "kernelspec": {
   "display_name": "Python 3",
   "language": "python",
   "name": "python3"
  },
  "language_info": {
   "codemirror_mode": {
    "name": "ipython",
    "version": 3
   },
   "file_extension": ".py",
   "mimetype": "text/x-python",
   "name": "python",
   "nbconvert_exporter": "python",
   "pygments_lexer": "ipython3",
   "version": "3.6.9"
  }
 },
 "nbformat": 4,
 "nbformat_minor": 2
}
